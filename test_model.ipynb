{
 "cells": [
  {
   "cell_type": "code",
   "execution_count": 25,
   "id": "a13a93da-ac6b-4211-9cc0-771e527ce26d",
   "metadata": {},
   "outputs": [],
   "source": [
    "from predict_odds import match_odds \n",
    "from predict_odds import get_probability_array\n",
    "from predict_odds import over_under_odds\n",
    "import pandas as pd\n",
    "import numpy as np"
   ]
  },
  {
   "cell_type": "code",
   "execution_count": 26,
   "id": "5e3807c1-4465-4f2b-91c6-0645be537c0d",
   "metadata": {},
   "outputs": [],
   "source": [
    "def df_epl_24_25(url):\n",
    "    # Read CSV, standardise team names, and remove newly promoted teams\n",
    "    df = pd.read_csv(url)\n",
    "    columns = ['HomeTeam', 'AwayTeam', 'FTHG', 'FTAG', 'FTR', 'B365H', 'B365D', 'B365A', 'B365>2.5', 'B365<2.5']\n",
    "    df['HomeTeam'] = df['HomeTeam'].replace('Man United', 'Manchester United')\n",
    "    df['AwayTeam'] = df['AwayTeam'].replace('Man United', 'Manchester United')\n",
    "    df['HomeTeam'] = df['HomeTeam'].replace('Man City', 'Manchester City')\n",
    "    df['AwayTeam'] = df['AwayTeam'].replace('Man City', 'Manchester City')\n",
    "    df['HomeTeam'] = df['HomeTeam'].replace(\"Nott'm Forest\", 'Nottingham Forest')\n",
    "    df['AwayTeam'] = df['AwayTeam'].replace(\"Nott'm Forest\", 'Nottingham Forest')\n",
    "    df['HomeTeam'] = df['HomeTeam'].replace('Wolves', 'Wolverhampton Wanderers')\n",
    "    df['AwayTeam'] = df['AwayTeam'].replace('Wolves', 'Wolverhampton Wanderers')\n",
    "    df['HomeTeam'] = df['HomeTeam'].replace('Newcastle', 'Newcastle United')\n",
    "    df['AwayTeam'] = df['AwayTeam'].replace('Newcastle', 'Newcastle United')\n",
    "    df = df[~df['HomeTeam'].isin(['Leicester', 'Southampton', 'Ipswich'])]\n",
    "    df = df[~df['AwayTeam'].isin(['Leicester', 'Southampton', 'Ipswich'])]\n",
    "    df = df.reset_index(drop=True)\n",
    "    df = df[columns]\n",
    "    return df"
   ]
  },
  {
   "cell_type": "code",
   "execution_count": 27,
   "id": "add08da1-33b6-4a9f-98a1-841848a41117",
   "metadata": {},
   "outputs": [],
   "source": [
    "# Read data files\n",
    "\n",
    "attacking_scores_csv_path = './data/data_EPL/attacking_scores.csv'\n",
    "defending_scores_csv_path = './data/data_EPL/defending_scores.csv'\n",
    "home_advantage_csv_path = './data/data_EPL/home_advantage.csv'\n",
    "df_attack = pd.read_csv(attacking_scores_csv_path, index_col='team')\n",
    "df_defence = pd.read_csv(defending_scores_csv_path, index_col='team')\n",
    "df_home_advantage = pd.read_csv(home_advantage_csv_path, index_col='parameter')"
   ]
  },
  {
   "cell_type": "code",
   "execution_count": 28,
   "id": "5048067c-4f27-4dac-b4db-07ac25e62ae1",
   "metadata": {},
   "outputs": [],
   "source": [
    "def add_odds_to_df(df):\n",
    "    # Calculate predicted odds for each match\n",
    "    predicted_home_odds = []\n",
    "    predicted_draw_odds = []\n",
    "    predicted_away_odds = []\n",
    "    over_2half_odds = []\n",
    "    under_2half_odds = []\n",
    "    for i in range(len(df)):\n",
    "        prob_array = get_probability_array(df['HomeTeam'][i], df['AwayTeam'][i], df_attack, df_defence, df_home_advantage)\n",
    "        result_odds = match_odds(prob_array)\n",
    "        over_under_2half_odds = over_under_odds(prob_array, 2.5)\n",
    "        predicted_home_odds.append(result_odds[0])\n",
    "        predicted_draw_odds.append(result_odds[1])\n",
    "        predicted_away_odds.append(result_odds[2])\n",
    "        over_2half_odds.append(over_under_2half_odds[0])\n",
    "        under_2half_odds.append(over_under_2half_odds[1])\n",
    "    df['Predicted_H'] = predicted_home_odds\n",
    "    df['Predicted_D'] = predicted_draw_odds\n",
    "    df['Predicted_A'] = predicted_away_odds\n",
    "    df['Predicted_Over2.5'] = over_2half_odds\n",
    "    df['Predicted_Under2.5'] = under_2half_odds\n",
    "    return df"
   ]
  },
  {
   "cell_type": "code",
   "execution_count": 29,
   "id": "e0a4113e-495e-45fc-ad05-4510c9523621",
   "metadata": {},
   "outputs": [],
   "source": [
    "def kelly_criterion(actual_odds, predicted_odds, wallet):\n",
    "    p = 1/predicted_odds\n",
    "    q = 1 - p\n",
    "    b = actual_odds-1\n",
    "    return (b*p-q)*wallet/b"
   ]
  },
  {
   "cell_type": "code",
   "execution_count": 30,
   "id": "c5bf1b45-3ae5-4ef5-a59a-e9ba32e6051b",
   "metadata": {},
   "outputs": [],
   "source": [
    "def count_winnings(df, wallet):\n",
    "    winnings = 0\n",
    "    for i in range(len(df)):\n",
    "        # Bet if actual odds are more than predicted odds\n",
    "        if df['B365H'][i] > df['Predicted_H'][i]:\n",
    "            # Bet for home win\n",
    "            toBet = kelly_criterion(df['B365H'][i], df['Predicted_H'][i], wallet)\n",
    "            if df['FTR'][i] == 'H': # Home Win\n",
    "                winnings += toBet * (df['B365H'][i] - 1)\n",
    "            else:\n",
    "                winnings -= toBet\n",
    "        if df['B365D'][i] > df['Predicted_D'][i]:\n",
    "            # Bet for draw\n",
    "            toBet = kelly_criterion(df['B365D'][i], df['Predicted_D'][i], wallet)\n",
    "            if df['FTR'][i] == 'D': # Draw\n",
    "                winnings += toBet * (df['B365D'][i] - 1)\n",
    "            else:\n",
    "                winnings -= toBet\n",
    "        if df['B365A'][i] > df['Predicted_A'][i]:\n",
    "            # Bet for away win\n",
    "            toBet = kelly_criterion(df['B365A'][i], df['Predicted_A'][i], wallet)\n",
    "            if df['FTR'][i] == 'A': # Draw\n",
    "                winnings += toBet * (df['B365A'][i] - 1)\n",
    "            else:\n",
    "                winnings -= toBet\n",
    "    return winnings"
   ]
  },
  {
   "cell_type": "code",
   "execution_count": 18,
   "id": "7950a803-a78f-4264-9522-641cd260849b",
   "metadata": {},
   "outputs": [
    {
     "name": "stdout",
     "output_type": "stream",
     "text": [
      "Potential winnings for 2024/25 season given $100: $-8.45\n"
     ]
    }
   ],
   "source": [
    "# Count potential winnings for 2024/25 season \n",
    "\n",
    "df_epl2425 = df_epl_24_25('./data/betting_odds/EPL_24_25.csv')\n",
    "df_epl2425 = add_odds_to_df(df_epl2425)\n",
    "wallet = 100\n",
    "print(f'Potential winnings for 2024/25 season given ${wallet}: ${np.round(count_winnings(df_epl2425, 100),2)}')"
   ]
  },
  {
   "cell_type": "code",
   "execution_count": 19,
   "id": "d335f01c-8ddc-4cee-8764-30545903928f",
   "metadata": {},
   "outputs": [],
   "source": [
    "def df_epl_23_24(url):\n",
    "    # Read CSV, standardise team names, and remove newly promoted teams\n",
    "    df = pd.read_csv(url)\n",
    "    columns = ['HomeTeam', 'AwayTeam', 'FTHG', 'FTAG', 'FTR', 'B365H', 'B365D', 'B365A', 'B365>2.5', 'B365<2.5']\n",
    "    df['HomeTeam'] = df['HomeTeam'].replace('Man United', 'Manchester United')\n",
    "    df['AwayTeam'] = df['AwayTeam'].replace('Man United', 'Manchester United')\n",
    "    df['HomeTeam'] = df['HomeTeam'].replace('Man City', 'Manchester City')\n",
    "    df['AwayTeam'] = df['AwayTeam'].replace('Man City', 'Manchester City')\n",
    "    df['HomeTeam'] = df['HomeTeam'].replace(\"Nott'm Forest\", 'Nottingham Forest')\n",
    "    df['AwayTeam'] = df['AwayTeam'].replace(\"Nott'm Forest\", 'Nottingham Forest')\n",
    "    df['HomeTeam'] = df['HomeTeam'].replace('Wolves', 'Wolverhampton Wanderers')\n",
    "    df['AwayTeam'] = df['AwayTeam'].replace('Wolves', 'Wolverhampton Wanderers')\n",
    "    df['HomeTeam'] = df['HomeTeam'].replace('Newcastle', 'Newcastle United')\n",
    "    df['AwayTeam'] = df['AwayTeam'].replace('Newcastle', 'Newcastle United')\n",
    "    df = df.reset_index(drop=True)\n",
    "    df = df[columns]\n",
    "    return df"
   ]
  },
  {
   "cell_type": "code",
   "execution_count": 38,
   "id": "140e4a3d-882c-4307-954e-0d34f523cbc4",
   "metadata": {},
   "outputs": [
    {
     "name": "stdout",
     "output_type": "stream",
     "text": [
      "Potential winnings for 2023/24 season given $100: $508.13\n"
     ]
    }
   ],
   "source": [
    "df_epl2324 = df_epl_23_24('./data/betting_odds/EPL_23_24.csv')\n",
    "df_epl2324 = add_odds_to_df(df_epl2324)\n",
    "wallet = 100\n",
    "print(f'Potential winnings for 2023/24 season given ${wallet}: ${np.round(count_winnings(df_epl2324, 100),2)}')"
   ]
  },
  {
   "cell_type": "code",
   "execution_count": 35,
   "id": "f1eaddef-c86c-495b-ba6f-93b3b4f7fae7",
   "metadata": {},
   "outputs": [],
   "source": [
    "def count_winnings_over_under(df, wallet):\n",
    "    winnings = 0\n",
    "    for i in range(len(df)):\n",
    "        # Bet if actual odds are more than predicted odds\n",
    "        if df['B365>2.5'][i] > df['Predicted_Over2.5'][i]:\n",
    "            toBet = kelly_criterion(df['B365>2.5'][i], df['Predicted_Over2.5'][i], wallet)\n",
    "            if df['FTHG'][i] + df['FTHG'][i] > 2.5:\n",
    "                winnings += toBet * (df['B365>2.5'][i] - 1)\n",
    "            else:\n",
    "                winnings -= toBet\n",
    "        if df['B365<2.5'][i] > df['Predicted_Under2.5'][i]:\n",
    "            toBet = kelly_criterion(df['B365<2.5'][i], df['Predicted_Under2.5'][i], wallet)\n",
    "            if df['FTHG'][i] + df['FTHG'][i] < 2.5: \n",
    "                winnings += toBet * (df['B365<2.5'][i] - 1)\n",
    "            else:\n",
    "                winnings -= toBet\n",
    "    return winnings"
   ]
  },
  {
   "cell_type": "code",
   "execution_count": 36,
   "id": "8c4eb391-6f7b-4e7b-9b52-274dab87368f",
   "metadata": {},
   "outputs": [
    {
     "data": {
      "text/html": [
       "<div>\n",
       "<style scoped>\n",
       "    .dataframe tbody tr th:only-of-type {\n",
       "        vertical-align: middle;\n",
       "    }\n",
       "\n",
       "    .dataframe tbody tr th {\n",
       "        vertical-align: top;\n",
       "    }\n",
       "\n",
       "    .dataframe thead th {\n",
       "        text-align: right;\n",
       "    }\n",
       "</style>\n",
       "<table border=\"1\" class=\"dataframe\">\n",
       "  <thead>\n",
       "    <tr style=\"text-align: right;\">\n",
       "      <th></th>\n",
       "      <th>HomeTeam</th>\n",
       "      <th>AwayTeam</th>\n",
       "      <th>FTHG</th>\n",
       "      <th>FTAG</th>\n",
       "      <th>FTR</th>\n",
       "      <th>B365H</th>\n",
       "      <th>B365D</th>\n",
       "      <th>B365A</th>\n",
       "      <th>B365&gt;2.5</th>\n",
       "      <th>B365&lt;2.5</th>\n",
       "      <th>Predicted_H</th>\n",
       "      <th>Predicted_D</th>\n",
       "      <th>Predicted_A</th>\n",
       "      <th>Predicted_Over2.5</th>\n",
       "      <th>Predicted_Under2.5</th>\n",
       "    </tr>\n",
       "  </thead>\n",
       "  <tbody>\n",
       "    <tr>\n",
       "      <th>0</th>\n",
       "      <td>Manchester United</td>\n",
       "      <td>Fulham</td>\n",
       "      <td>1</td>\n",
       "      <td>0</td>\n",
       "      <td>H</td>\n",
       "      <td>1.60</td>\n",
       "      <td>4.2</td>\n",
       "      <td>5.25</td>\n",
       "      <td>1.53</td>\n",
       "      <td>2.50</td>\n",
       "      <td>2.15</td>\n",
       "      <td>4.05</td>\n",
       "      <td>3.46</td>\n",
       "      <td>1.87</td>\n",
       "      <td>2.14</td>\n",
       "    </tr>\n",
       "    <tr>\n",
       "      <th>1</th>\n",
       "      <td>Arsenal</td>\n",
       "      <td>Wolverhampton Wanderers</td>\n",
       "      <td>2</td>\n",
       "      <td>0</td>\n",
       "      <td>H</td>\n",
       "      <td>1.18</td>\n",
       "      <td>7.5</td>\n",
       "      <td>13.00</td>\n",
       "      <td>1.44</td>\n",
       "      <td>2.75</td>\n",
       "      <td>1.23</td>\n",
       "      <td>7.85</td>\n",
       "      <td>17.48</td>\n",
       "      <td>1.61</td>\n",
       "      <td>2.65</td>\n",
       "    </tr>\n",
       "    <tr>\n",
       "      <th>2</th>\n",
       "      <td>Everton</td>\n",
       "      <td>Brighton</td>\n",
       "      <td>0</td>\n",
       "      <td>3</td>\n",
       "      <td>A</td>\n",
       "      <td>2.63</td>\n",
       "      <td>3.3</td>\n",
       "      <td>2.63</td>\n",
       "      <td>1.80</td>\n",
       "      <td>2.00</td>\n",
       "      <td>2.67</td>\n",
       "      <td>3.42</td>\n",
       "      <td>3.00</td>\n",
       "      <td>2.68</td>\n",
       "      <td>1.60</td>\n",
       "    </tr>\n",
       "    <tr>\n",
       "      <th>3</th>\n",
       "      <td>Nottingham Forest</td>\n",
       "      <td>Bournemouth</td>\n",
       "      <td>1</td>\n",
       "      <td>1</td>\n",
       "      <td>D</td>\n",
       "      <td>2.45</td>\n",
       "      <td>3.5</td>\n",
       "      <td>2.80</td>\n",
       "      <td>1.73</td>\n",
       "      <td>2.10</td>\n",
       "      <td>2.44</td>\n",
       "      <td>4.04</td>\n",
       "      <td>2.92</td>\n",
       "      <td>1.81</td>\n",
       "      <td>2.23</td>\n",
       "    </tr>\n",
       "    <tr>\n",
       "      <th>4</th>\n",
       "      <td>West Ham</td>\n",
       "      <td>Aston Villa</td>\n",
       "      <td>1</td>\n",
       "      <td>2</td>\n",
       "      <td>A</td>\n",
       "      <td>2.45</td>\n",
       "      <td>3.6</td>\n",
       "      <td>2.75</td>\n",
       "      <td>1.57</td>\n",
       "      <td>2.38</td>\n",
       "      <td>3.15</td>\n",
       "      <td>4.84</td>\n",
       "      <td>2.10</td>\n",
       "      <td>1.34</td>\n",
       "      <td>3.91</td>\n",
       "    </tr>\n",
       "  </tbody>\n",
       "</table>\n",
       "</div>"
      ],
      "text/plain": [
       "            HomeTeam                 AwayTeam  FTHG  FTAG FTR  B365H  B365D  \\\n",
       "0  Manchester United                   Fulham     1     0   H   1.60    4.2   \n",
       "1            Arsenal  Wolverhampton Wanderers     2     0   H   1.18    7.5   \n",
       "2            Everton                 Brighton     0     3   A   2.63    3.3   \n",
       "3  Nottingham Forest              Bournemouth     1     1   D   2.45    3.5   \n",
       "4           West Ham              Aston Villa     1     2   A   2.45    3.6   \n",
       "\n",
       "   B365A  B365>2.5  B365<2.5  Predicted_H  Predicted_D  Predicted_A  \\\n",
       "0   5.25      1.53      2.50         2.15         4.05         3.46   \n",
       "1  13.00      1.44      2.75         1.23         7.85        17.48   \n",
       "2   2.63      1.80      2.00         2.67         3.42         3.00   \n",
       "3   2.80      1.73      2.10         2.44         4.04         2.92   \n",
       "4   2.75      1.57      2.38         3.15         4.84         2.10   \n",
       "\n",
       "   Predicted_Over2.5  Predicted_Under2.5  \n",
       "0               1.87                2.14  \n",
       "1               1.61                2.65  \n",
       "2               2.68                1.60  \n",
       "3               1.81                2.23  \n",
       "4               1.34                3.91  "
      ]
     },
     "execution_count": 36,
     "metadata": {},
     "output_type": "execute_result"
    }
   ],
   "source": [
    "df_epl2425 = df_epl_24_25('./data/betting_odds/EPL_24_25.csv')\n",
    "df_epl2425 = add_odds_to_df(df_epl2425)\n",
    "df_epl2425.head()"
   ]
  },
  {
   "cell_type": "code",
   "execution_count": 37,
   "id": "6bf32ac8-3642-4892-bf46-4ca45a5143db",
   "metadata": {},
   "outputs": [
    {
     "data": {
      "text/plain": [
       "np.float64(-63.88135112590865)"
      ]
     },
     "execution_count": 37,
     "metadata": {},
     "output_type": "execute_result"
    }
   ],
   "source": [
    "count_winnings_over_under(df_epl2425, 100)"
   ]
  },
  {
   "cell_type": "code",
   "execution_count": 39,
   "id": "e94302e4-244c-4970-ac2a-ac22d8e7518b",
   "metadata": {},
   "outputs": [
    {
     "data": {
      "text/plain": [
       "np.float64(370.9492368656038)"
      ]
     },
     "execution_count": 39,
     "metadata": {},
     "output_type": "execute_result"
    }
   ],
   "source": [
    "count_winnings_over_under(df_epl2324, 100)"
   ]
  },
  {
   "cell_type": "code",
   "execution_count": null,
   "id": "2556c0b2-c4b8-4d30-86f9-b927cddd8d0c",
   "metadata": {},
   "outputs": [],
   "source": []
  }
 ],
 "metadata": {
  "kernelspec": {
   "display_name": "Python 3 (ipykernel)",
   "language": "python",
   "name": "python3"
  },
  "language_info": {
   "codemirror_mode": {
    "name": "ipython",
    "version": 3
   },
   "file_extension": ".py",
   "mimetype": "text/x-python",
   "name": "python",
   "nbconvert_exporter": "python",
   "pygments_lexer": "ipython3",
   "version": "3.12.5"
  }
 },
 "nbformat": 4,
 "nbformat_minor": 5
}
