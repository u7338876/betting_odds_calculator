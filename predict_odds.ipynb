{
 "cells": [
  {
   "cell_type": "code",
   "execution_count": 3,
   "id": "c4f62f1b-c10d-471b-982e-91c0961d1d2b",
   "metadata": {},
   "outputs": [],
   "source": [
    "import numpy as np\n",
    "import pandas as pd\n",
    "import math"
   ]
  },
  {
   "cell_type": "code",
   "execution_count": 1,
   "id": "bd5d6da5-809f-4643-a22f-0d479bc3b14d",
   "metadata": {},
   "outputs": [],
   "source": [
    "def calculate_t(x, y, lambd, mil, p):\n",
    "    if x == 0 and y == 0:\n",
    "        return 1 - lambd*mil*p\n",
    "    elif x == 0 and y == 1:\n",
    "        return 1 + lambd*p\n",
    "    elif x == 1 and y == 0:\n",
    "        return 1 + mil*p\n",
    "    elif x == 1 and y == 1:\n",
    "        return 1 - p\n",
    "    else: \n",
    "        return 1"
   ]
  },
  {
   "cell_type": "code",
   "execution_count": 4,
   "id": "e258940b-ff80-45d5-81b8-0828cd52931d",
   "metadata": {},
   "outputs": [],
   "source": [
    "def score_probability(x, y, home_attack, home_defence, away_attack, away_defence, home_advantage, p):\n",
    "    lambd = home_attack * away_defence * home_advantage\n",
    "    mil = away_attack * home_defence\n",
    "    t = calculate_t(x, y, lambd, mil, p)\n",
    "    poisson_x = (lambd**x * np.exp(-lambd))/math.factorial(x)\n",
    "    poisson_y = (mil**y * np.exp(-mil))/math.factorial(y)\n",
    "    return t*poisson_x*poisson_y    "
   ]
  },
  {
   "cell_type": "code",
   "execution_count": 12,
   "id": "c76cdedd-d7ef-4737-a0ae-8b3f5e78ccaf",
   "metadata": {},
   "outputs": [],
   "source": [
    "df_attack = pd.read_csv('./data/attacking_scores.csv', index_col='team')\n",
    "df_defence = pd.read_csv('./data/defending_scores.csv', index_col='team')\n",
    "df_home_advantage = pd.read_csv('./data/home_advantage.csv', index_col='parameter')"
   ]
  },
  {
   "cell_type": "code",
   "execution_count": 26,
   "id": "c761a142-28b3-4d17-a137-2525e933100d",
   "metadata": {},
   "outputs": [],
   "source": [
    "def get_probability_array(home_team, away_team):\n",
    "    prob_array = np.zeros((9,9))\n",
    "    total_probability = 0\n",
    "    home_attack = df_attack.loc[home_team].attacking_score\n",
    "    away_attack = df_attack.loc[away_team].attacking_score\n",
    "    home_defence = df_defence.loc[home_team].defending_score\n",
    "    away_defence = df_defence.loc[away_team].defending_score\n",
    "    home_advantage = df_home_advantage.loc['home_advantage'].value\n",
    "    p = df_home_advantage.loc['p'].value\n",
    "\n",
    "    # Get probability of each scoreline up to 9 goals\n",
    "    for i in range(9):\n",
    "        for j in range(9):\n",
    "            prob = score_probability(i, j, home_attack, home_defence, away_attack, away_defence, home_advantage, p)\n",
    "            prob_array[i][j] = prob\n",
    "            total_probability += prob\n",
    "            \n",
    "    prob_array /= total_probability # Normalise probabilities\n",
    "    return prob_array"
   ]
  },
  {
   "cell_type": "code",
   "execution_count": 27,
   "id": "4b346420-38e9-45d8-98b6-160112f38017",
   "metadata": {},
   "outputs": [],
   "source": [
    "prob_array = get_probability_array('Manchester City', 'Brentford')"
   ]
  },
  {
   "cell_type": "code",
   "execution_count": 31,
   "id": "c05e680b-1f4d-40d2-8531-4ded4fdb3295",
   "metadata": {},
   "outputs": [],
   "source": [
    "def match_odds(prob_array):\n",
    "    home_win = 0\n",
    "    draw = 0\n",
    "    away_win = 0\n",
    "    rows, cols = prob_array.shape\n",
    "    for i in range(rows):\n",
    "        for j in range(cols):\n",
    "            if i > j:\n",
    "                home_win += prob_array[i][j]\n",
    "            elif j > i:\n",
    "                away_win += prob_array[i][j]\n",
    "            else: \n",
    "                draw += prob_array[i][j]\n",
    "    home_win_odds = np.round(1/home_win,2)\n",
    "    draw_odds = np.round(1/draw,2)\n",
    "    away_win_odds = np.round(1/away_win,2)\n",
    "    return [home_win_odds, draw_odds, away_win_odds]"
   ]
  },
  {
   "cell_type": "code",
   "execution_count": 40,
   "id": "56ee850a-9c2b-425a-82dd-afce3ac360ab",
   "metadata": {},
   "outputs": [],
   "source": [
    "def score_odds(prob_array):\n",
    "    return pd.DataFrame(np.round(1/prob_array,2))"
   ]
  },
  {
   "cell_type": "code",
   "execution_count": 44,
   "id": "382660af-efb4-4614-abc5-f0f07ab1fe76",
   "metadata": {},
   "outputs": [],
   "source": [
    "def over_under_odds(prob_array, goals):\n",
    "    over = 0\n",
    "    under = 0\n",
    "    rows, cols = prob_array.shape\n",
    "    for i in range(rows):\n",
    "        for j in range(cols):\n",
    "            if i+j > goals:\n",
    "                over += prob_array[i][j]\n",
    "            else:\n",
    "                under += prob_array[i][j]\n",
    "    over_odds = np.round(1/over,2)\n",
    "    under_odds = np.round(1/under,2)\n",
    "    return [over_odds, under_odds]"
   ]
  },
  {
   "cell_type": "code",
   "execution_count": 49,
   "id": "b9f24e8b-bf76-426e-9830-30b1c1c52618",
   "metadata": {},
   "outputs": [],
   "source": [
    "def both_to_score(prob_array):\n",
    "    both_score = 0\n",
    "    not_both_score = 0\n",
    "    rows, cols = prob_array.shape\n",
    "    for i in range(rows):\n",
    "        for j in range(cols):\n",
    "            if i == 0 or j == 0:\n",
    "                not_both_score += prob_array[i][j]\n",
    "            else: \n",
    "                both_score += prob_array[i][j]\n",
    "    both_score_odds = np.round(1/both_score,2)\n",
    "    not_both_score_odds = np.round(1/not_both_score,2)\n",
    "    return [both_score_odds, not_both_score_odds]"
   ]
  },
  {
   "cell_type": "code",
   "execution_count": 51,
   "id": "6e7b96cc-eeef-4f54-a8da-4d059dbc3722",
   "metadata": {},
   "outputs": [],
   "source": [
    "def result_both_to_score(prob_array):\n",
    "    home_win_both_score = 0\n",
    "    home_win_not_both_score = 0\n",
    "    draw_both_score = 0\n",
    "    draw_not_both_score = 0\n",
    "    away_win_both_score = 0\n",
    "    away_win_not_both_score = 0\n",
    "    rows, cols = prob_array.shape\n",
    "    for i in range(rows):\n",
    "        for j in range(cols):\n",
    "            if i > j:\n",
    "                if j == 0:\n",
    "                    home_win_not_both_score += prob_array[i][j]\n",
    "                else:\n",
    "                    home_win_both_score += prob_array[i][j]\n",
    "            elif j > i:\n",
    "                if i == 0:\n",
    "                    away_win_not_both_score += prob_array[i][j]\n",
    "                else: \n",
    "                    away_win_both_score += prob_array[i][j]\n",
    "            else:\n",
    "                if j == 0:\n",
    "                    draw_not_both_score += prob_array[i][j]\n",
    "                else:\n",
    "                    draw_both_score += prob_array[i][j]\n",
    "    home_win_both_score_odds = np.round(1/home_win_both_score,2)\n",
    "    home_win_not_both_score_odds = np.round(1/home_win_not_both_score,2)\n",
    "    draw_both_score_odds = np.round(1/draw_both_score,2)\n",
    "    draw_not_both_score_odds = np.round(1/draw_not_both_score,2)\n",
    "    away_win_both_score_odds = np.round(1/away_win_both_score,2)\n",
    "    away_win_not_both_score_odds = np.round(1/away_win_not_both_score,2)\n",
    "    return [home_win_both_score_odds, home_win_not_both_score_odds, draw_both_score_odds, \n",
    "            draw_not_both_score_odds, away_win_both_score_odds, away_win_not_both_score_odds]"
   ]
  },
  {
   "cell_type": "code",
   "execution_count": null,
   "id": "7e08ab51-d73e-46f5-8c70-c0f7dbe4428a",
   "metadata": {},
   "outputs": [],
   "source": []
  }
 ],
 "metadata": {
  "kernelspec": {
   "display_name": "Python 3 (ipykernel)",
   "language": "python",
   "name": "python3"
  },
  "language_info": {
   "codemirror_mode": {
    "name": "ipython",
    "version": 3
   },
   "file_extension": ".py",
   "mimetype": "text/x-python",
   "name": "python",
   "nbconvert_exporter": "python",
   "pygments_lexer": "ipython3",
   "version": "3.12.5"
  }
 },
 "nbformat": 4,
 "nbformat_minor": 5
}
