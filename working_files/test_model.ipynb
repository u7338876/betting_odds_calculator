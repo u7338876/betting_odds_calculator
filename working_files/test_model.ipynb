{
 "cells": [
  {
   "cell_type": "code",
   "execution_count": 2,
   "id": "a13a93da-ac6b-4211-9cc0-771e527ce26d",
   "metadata": {},
   "outputs": [],
   "source": [
    "from predict_odds import match_odds \n",
    "from predict_odds import get_probability_array\n",
    "import pandas as pd\n",
    "import numpy as np"
   ]
  },
  {
   "cell_type": "code",
   "execution_count": 118,
   "id": "5e3807c1-4465-4f2b-91c6-0645be537c0d",
   "metadata": {},
   "outputs": [],
   "source": [
    "def df_epl_24_25(url):\n",
    "    # Read CSV, standardise team names, and remove newly promoted teams\n",
    "    df = pd.read_csv(url)\n",
    "    columns = ['HomeTeam', 'AwayTeam', 'FTHG', 'FTAG', 'FTR', 'B365H', 'B365D', 'B365A']\n",
    "    df['HomeTeam'] = df['HomeTeam'].replace('Man United', 'Manchester United')\n",
    "    df['AwayTeam'] = df['AwayTeam'].replace('Man United', 'Manchester United')\n",
    "    df['HomeTeam'] = df['HomeTeam'].replace('Man City', 'Manchester City')\n",
    "    df['AwayTeam'] = df['AwayTeam'].replace('Man City', 'Manchester City')\n",
    "    df['HomeTeam'] = df['HomeTeam'].replace(\"Nott'm Forest\", 'Nottingham Forest')\n",
    "    df['AwayTeam'] = df['AwayTeam'].replace(\"Nott'm Forest\", 'Nottingham Forest')\n",
    "    df['HomeTeam'] = df['HomeTeam'].replace('Wolves', 'Wolverhampton Wanderers')\n",
    "    df['AwayTeam'] = df['AwayTeam'].replace('Wolves', 'Wolverhampton Wanderers')\n",
    "    df['HomeTeam'] = df['HomeTeam'].replace('Newcastle', 'Newcastle United')\n",
    "    df['AwayTeam'] = df['AwayTeam'].replace('Newcastle', 'Newcastle United')\n",
    "    df = df[~df['HomeTeam'].isin(['Leicester', 'Southampton', 'Ipswich'])]\n",
    "    df = df[~df['AwayTeam'].isin(['Leicester', 'Southampton', 'Ipswich'])]\n",
    "    df = df.reset_index(drop=True)\n",
    "    df = df[columns]\n",
    "    return df"
   ]
  },
  {
   "cell_type": "code",
   "execution_count": 119,
   "id": "add08da1-33b6-4a9f-98a1-841848a41117",
   "metadata": {},
   "outputs": [],
   "source": [
    "# Read data files\n",
    "\n",
    "attacking_scores_csv_path = './data_EPL/attacking_scores.csv'\n",
    "defending_scores_csv_path = './data_EPL/defending_scores.csv'\n",
    "home_advantage_csv_path = './data_EPL/home_advantage.csv'\n",
    "df_attack = pd.read_csv(attacking_scores_csv_path, index_col='team')\n",
    "df_defence = pd.read_csv(defending_scores_csv_path, index_col='team')\n",
    "df_home_advantage = pd.read_csv(home_advantage_csv_path, index_col='parameter')"
   ]
  },
  {
   "cell_type": "code",
   "execution_count": 120,
   "id": "5048067c-4f27-4dac-b4db-07ac25e62ae1",
   "metadata": {},
   "outputs": [],
   "source": [
    "def add_odds_to_df(df):\n",
    "    # Calculate predicted odds for each match\n",
    "    predicted_home_odds = []\n",
    "    predicted_draw_odds = []\n",
    "    predicted_away_odds = []\n",
    "    for i in range(len(df)):\n",
    "        odds = match_odds(get_probability_array(df['HomeTeam'][i], df['AwayTeam'][i], df_attack, df_defence, df_home_advantage))\n",
    "        predicted_home_odds.append(odds[0])\n",
    "        predicted_draw_odds.append(odds[1])\n",
    "        predicted_away_odds.append(odds[2])\n",
    "    df['Predicted_H'] = predicted_home_odds\n",
    "    df['Predicted_D'] = predicted_draw_odds\n",
    "    df['Predicted_A'] = predicted_away_odds\n",
    "    return df"
   ]
  },
  {
   "cell_type": "code",
   "execution_count": 121,
   "id": "e0a4113e-495e-45fc-ad05-4510c9523621",
   "metadata": {},
   "outputs": [],
   "source": [
    "def kelly_criterion(actual_odds, predicted_odds, wallet):\n",
    "    p = 1/predicted_odds\n",
    "    q = 1 - p\n",
    "    b = actual_odds-1\n",
    "    return (b*p-q)*wallet/b"
   ]
  },
  {
   "cell_type": "code",
   "execution_count": 122,
   "id": "c5bf1b45-3ae5-4ef5-a59a-e9ba32e6051b",
   "metadata": {},
   "outputs": [],
   "source": [
    "def count_winnings(df, wallet):\n",
    "    winnings = 0\n",
    "    for i in range(len(df)):\n",
    "        # Bet if actual odds are more than predicted odds\n",
    "        if df['B365H'][i] > df['Predicted_H'][i]:\n",
    "            # Bet for home win\n",
    "            toBet = kelly_criterion(df['B365H'][i], df['Predicted_H'][i], wallet)\n",
    "            if df['FTR'][i] == 'H': # Home Win\n",
    "                winnings += toBet * (df['B365H'][i] - 1)\n",
    "            else:\n",
    "                winnings -= toBet\n",
    "        if df['B365D'][i] > df['Predicted_D'][i]:\n",
    "            # Bet for draw\n",
    "            toBet = kelly_criterion(df['B365D'][i], df['Predicted_D'][i], wallet)\n",
    "            if df['FTR'][i] == 'D': # Draw\n",
    "                winnings += toBet * (df['B365D'][i] - 1)\n",
    "            else:\n",
    "                winnings -= toBet\n",
    "        if df['B365A'][i] > df['Predicted_A'][i]:\n",
    "            # Bet for away win\n",
    "            toBet = kelly_criterion(df['B365A'][i], df['Predicted_A'][i], wallet)\n",
    "            if df['FTR'][i] == 'A': # Draw\n",
    "                winnings += toBet * (df['B365A'][i] - 1)\n",
    "            else:\n",
    "                winnings -= toBet\n",
    "    return winnings"
   ]
  },
  {
   "cell_type": "code",
   "execution_count": 123,
   "id": "7950a803-a78f-4264-9522-641cd260849b",
   "metadata": {},
   "outputs": [
    {
     "name": "stdout",
     "output_type": "stream",
     "text": [
      "Potential winnings for 2024/25 season given $100: $-8.45\n"
     ]
    }
   ],
   "source": [
    "# Count potential winnings for 2024/25 season \n",
    "\n",
    "df_epl2425 = df_epl_24_25('./betting_odds/EPL_24_25.csv')\n",
    "df_epl2425 = add_odds_to_df(df_epl2425)\n",
    "wallet = 100\n",
    "print(f'Potential winnings for 2024/25 season given ${wallet}: ${np.round(count_winnings(df_epl2425, 100),2)}')"
   ]
  },
  {
   "cell_type": "code",
   "execution_count": 124,
   "id": "d335f01c-8ddc-4cee-8764-30545903928f",
   "metadata": {},
   "outputs": [],
   "source": [
    "def df_epl_23_24(url):\n",
    "    # Read CSV, standardise team names, and remove newly promoted teams\n",
    "    df = pd.read_csv(url)\n",
    "    columns = ['HomeTeam', 'AwayTeam', 'FTHG', 'FTAG', 'FTR', 'B365H', 'B365D', 'B365A']\n",
    "    df['HomeTeam'] = df['HomeTeam'].replace('Man United', 'Manchester United')\n",
    "    df['AwayTeam'] = df['AwayTeam'].replace('Man United', 'Manchester United')\n",
    "    df['HomeTeam'] = df['HomeTeam'].replace('Man City', 'Manchester City')\n",
    "    df['AwayTeam'] = df['AwayTeam'].replace('Man City', 'Manchester City')\n",
    "    df['HomeTeam'] = df['HomeTeam'].replace(\"Nott'm Forest\", 'Nottingham Forest')\n",
    "    df['AwayTeam'] = df['AwayTeam'].replace(\"Nott'm Forest\", 'Nottingham Forest')\n",
    "    df['HomeTeam'] = df['HomeTeam'].replace('Wolves', 'Wolverhampton Wanderers')\n",
    "    df['AwayTeam'] = df['AwayTeam'].replace('Wolves', 'Wolverhampton Wanderers')\n",
    "    df['HomeTeam'] = df['HomeTeam'].replace('Newcastle', 'Newcastle United')\n",
    "    df['AwayTeam'] = df['AwayTeam'].replace('Newcastle', 'Newcastle United')\n",
    "    df = df.reset_index(drop=True)\n",
    "    df = df[columns]\n",
    "    return df"
   ]
  },
  {
   "cell_type": "code",
   "execution_count": 127,
   "id": "140e4a3d-882c-4307-954e-0d34f523cbc4",
   "metadata": {},
   "outputs": [
    {
     "name": "stdout",
     "output_type": "stream",
     "text": [
      "Potential winnings for 2023/24 season given $100: $508.13\n"
     ]
    }
   ],
   "source": [
    "df_epl2324 = df_epl_23_24('./betting_odds/EPL_23_24.csv')\n",
    "df_epl2324 = add_odds_to_df(df_epl2324)\n",
    "wallet = 100\n",
    "print(f'Potential winnings for 2023/24 season given ${wallet}: ${np.round(count_winnings(df_epl2324, 100),2)}')"
   ]
  },
  {
   "cell_type": "code",
   "execution_count": 3,
   "id": "7b84e18e-459a-4d6e-b5b2-85ba7dcf6f8f",
   "metadata": {},
   "outputs": [
    {
     "data": {
      "text/html": [
       "<div>\n",
       "<style scoped>\n",
       "    .dataframe tbody tr th:only-of-type {\n",
       "        vertical-align: middle;\n",
       "    }\n",
       "\n",
       "    .dataframe tbody tr th {\n",
       "        vertical-align: top;\n",
       "    }\n",
       "\n",
       "    .dataframe thead th {\n",
       "        text-align: right;\n",
       "    }\n",
       "</style>\n",
       "<table border=\"1\" class=\"dataframe\">\n",
       "  <thead>\n",
       "    <tr style=\"text-align: right;\">\n",
       "      <th></th>\n",
       "    </tr>\n",
       "  </thead>\n",
       "  <tbody>\n",
       "  </tbody>\n",
       "</table>\n",
       "</div>"
      ],
      "text/plain": [
       "Empty DataFrame\n",
       "Columns: []\n",
       "Index: []"
      ]
     },
     "execution_count": 3,
     "metadata": {},
     "output_type": "execute_result"
    }
   ],
   "source": [
    "pd.DataFrame()"
   ]
  },
  {
   "cell_type": "code",
   "execution_count": null,
   "id": "7accdabe-1506-4791-9c80-1accae36aaf1",
   "metadata": {},
   "outputs": [],
   "source": []
  }
 ],
 "metadata": {
  "kernelspec": {
   "display_name": "Python 3 (ipykernel)",
   "language": "python",
   "name": "python3"
  },
  "language_info": {
   "codemirror_mode": {
    "name": "ipython",
    "version": 3
   },
   "file_extension": ".py",
   "mimetype": "text/x-python",
   "name": "python",
   "nbconvert_exporter": "python",
   "pygments_lexer": "ipython3",
   "version": "3.12.5"
  }
 },
 "nbformat": 4,
 "nbformat_minor": 5
}
